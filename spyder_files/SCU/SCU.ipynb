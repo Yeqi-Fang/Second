{
 "cells": [
  {
   "cell_type": "code",
   "execution_count": 1,
   "metadata": {
    "collapsed": true
   },
   "outputs": [],
   "source": [
    "from SCU import SCU\n",
    "scu = SCU(course=('908005020',), acceptable_nums=(('06', '08'),))\n",
    "wd = scu.log_in()"
   ]
  },
  {
   "cell_type": "code",
   "execution_count": 2,
   "metadata": {
    "collapsed": false
   },
   "outputs": [
    {
     "ename": "NoSuchElementException",
     "evalue": "Message: no such element: Unable to locate element: {\"method\":\"xpath\",\"selector\":\"//*[@id=\"xirxkxkbody\"]/tr[1]/td[3]\"}\n  (Session info: chrome=108.0.5359.99)\nStacktrace:\nBacktrace:\n\t(No symbol) [0x0080F243]\n\t(No symbol) [0x00797FD1]\n\t(No symbol) [0x0068D04D]\n\t(No symbol) [0x006BC0B0]\n\t(No symbol) [0x006BC22B]\n\t(No symbol) [0x006EE612]\n\t(No symbol) [0x006D85D4]\n\t(No symbol) [0x006EC9EB]\n\t(No symbol) [0x006D8386]\n\t(No symbol) [0x006B163C]\n\t(No symbol) [0x006B269D]\n\tGetHandleVerifier [0x00AA9A22+2655074]\n\tGetHandleVerifier [0x00A9CA24+2601828]\n\tGetHandleVerifier [0x008B8C0A+619850]\n\tGetHandleVerifier [0x008B7830+614768]\n\t(No symbol) [0x007A05FC]\n\t(No symbol) [0x007A5968]\n\t(No symbol) [0x007A5A55]\n\t(No symbol) [0x007B051B]\n\tBaseThreadInitThunk [0x76A37BA9+25]\n\tRtlInitializeExceptionChain [0x7751BB9B+107]\n\tRtlClearBits [0x7751BB1F+191]\n",
     "output_type": "error",
     "traceback": [
      "\u001B[1;31m---------------------------------------------------------------------------\u001B[0m",
      "\u001B[1;31mNoSuchElementException\u001B[0m                    Traceback (most recent call last)",
      "\u001B[1;32mc:\\Users\\FYQ\\PycharmProjects\\pythonProject1\\spyder_files\\SCU\\SCU.ipynb 单元格 2\u001B[0m in \u001B[0;36m<cell line: 1>\u001B[1;34m()\u001B[0m\n\u001B[1;32m----> <a href='vscode-notebook-cell:/c%3A/Users/FYQ/PycharmProjects/pythonProject1/spyder_files/SCU/SCU.ipynb#W1sZmlsZQ%3D%3D?line=0'>1</a>\u001B[0m scu\u001B[39m.\u001B[39;49mmanage(wd)\n",
      "File \u001B[1;32mc:\\Users\\FYQ\\PycharmProjects\\pythonProject1\\spyder_files\\SCU\\SCU.py:81\u001B[0m, in \u001B[0;36mSCU.manage\u001B[1;34m(self, wd)\u001B[0m\n\u001B[0;32m     78\u001B[0m \u001B[39mdef\u001B[39;00m \u001B[39mmanage\u001B[39m(\u001B[39mself\u001B[39m, wd):\n\u001B[0;32m     79\u001B[0m     \u001B[39m# wd = self.log_in()\u001B[39;00m\n\u001B[0;32m     80\u001B[0m     \u001B[39mfor\u001B[39;00m i \u001B[39min\u001B[39;00m \u001B[39mrange\u001B[39m(\u001B[39mlen\u001B[39m(\u001B[39mself\u001B[39m\u001B[39m.\u001B[39mcourse)):\n\u001B[1;32m---> 81\u001B[0m         stats \u001B[39m=\u001B[39m \u001B[39mself\u001B[39;49m\u001B[39m.\u001B[39;49mchoose_course(wd, \u001B[39mself\u001B[39;49m\u001B[39m.\u001B[39;49mcourse[i], \u001B[39mself\u001B[39;49m\u001B[39m.\u001B[39;49macceptable_nums[i])\n\u001B[0;32m     82\u001B[0m         \u001B[39mif\u001B[39;00m stats:\n\u001B[0;32m     83\u001B[0m             \u001B[39mprint\u001B[39m(\u001B[39mf\u001B[39m\u001B[39m'\u001B[39m\u001B[39mCongratulation! Course \u001B[39m\u001B[39m{\u001B[39;00m\u001B[39mself\u001B[39m\u001B[39m.\u001B[39mcourse[i]\u001B[39m}\u001B[39;00m\u001B[39m has been chosen successfully!!!\u001B[39m\u001B[39m'\u001B[39m)\n",
      "File \u001B[1;32mc:\\Users\\FYQ\\PycharmProjects\\pythonProject1\\spyder_files\\SCU\\SCU.py:62\u001B[0m, in \u001B[0;36mSCU.choose_course\u001B[1;34m(wd, course, nums)\u001B[0m\n\u001B[0;32m     60\u001B[0m input_ \u001B[39m=\u001B[39m wd\u001B[39m.\u001B[39mfind_element(By\u001B[39m.\u001B[39mXPATH, \u001B[39mf\u001B[39m\u001B[39m'\u001B[39m\u001B[39m//*[@id=\u001B[39m\u001B[39m\"\u001B[39m\u001B[39mxirxkxkbody\u001B[39m\u001B[39m\"\u001B[39m\u001B[39m]/tr[\u001B[39m\u001B[39m{\u001B[39;00mi\u001B[39m}\u001B[39;00m\u001B[39m]\u001B[39m\u001B[39m'\u001B[39m)\n\u001B[0;32m     61\u001B[0m \u001B[39mif\u001B[39;00m \u001B[39m'\u001B[39m\u001B[39mdisabled\u001B[39m\u001B[39m'\u001B[39m \u001B[39mnot\u001B[39;00m \u001B[39min\u001B[39;00m input_\u001B[39m.\u001B[39mget_attribute(\u001B[39m'\u001B[39m\u001B[39mouterHTML\u001B[39m\u001B[39m'\u001B[39m):\n\u001B[1;32m---> 62\u001B[0m     txt \u001B[39m=\u001B[39m wd\u001B[39m.\u001B[39;49mfind_element(By\u001B[39m.\u001B[39;49mXPATH, \u001B[39mf\u001B[39;49m\u001B[39m'\u001B[39;49m\u001B[39m//*[@id=\u001B[39;49m\u001B[39m\"\u001B[39;49m\u001B[39mxirxkxkbody\u001B[39;49m\u001B[39m\"\u001B[39;49m\u001B[39m]/tr[\u001B[39;49m\u001B[39m{\u001B[39;49;00mi\u001B[39m}\u001B[39;49;00m\u001B[39m]/td[3]\u001B[39;49m\u001B[39m'\u001B[39;49m)\u001B[39m.\u001B[39mget_attribute(\u001B[39m'\u001B[39m\u001B[39mouterHTML\u001B[39m\u001B[39m'\u001B[39m)\n\u001B[0;32m     63\u001B[0m     \u001B[39m# print(txt)\u001B[39;00m\n\u001B[0;32m     64\u001B[0m     num_available \u001B[39m=\u001B[39m re\u001B[39m.\u001B[39msearch(b, txt)\u001B[39m.\u001B[39mgroup(\u001B[39m1\u001B[39m)\n",
      "File \u001B[1;32mc:\\Users\\FYQ\\AppData\\Local\\Programs\\Python\\Python39\\lib\\site-packages\\selenium\\webdriver\\remote\\webdriver.py:856\u001B[0m, in \u001B[0;36mWebDriver.find_element\u001B[1;34m(self, by, value)\u001B[0m\n\u001B[0;32m    853\u001B[0m     by \u001B[39m=\u001B[39m By\u001B[39m.\u001B[39mCSS_SELECTOR\n\u001B[0;32m    854\u001B[0m     value \u001B[39m=\u001B[39m \u001B[39m'\u001B[39m\u001B[39m[name=\u001B[39m\u001B[39m\"\u001B[39m\u001B[39m%s\u001B[39;00m\u001B[39m\"\u001B[39m\u001B[39m]\u001B[39m\u001B[39m'\u001B[39m \u001B[39m%\u001B[39m value\n\u001B[1;32m--> 856\u001B[0m \u001B[39mreturn\u001B[39;00m \u001B[39mself\u001B[39;49m\u001B[39m.\u001B[39;49mexecute(Command\u001B[39m.\u001B[39;49mFIND_ELEMENT, {\n\u001B[0;32m    857\u001B[0m     \u001B[39m'\u001B[39;49m\u001B[39musing\u001B[39;49m\u001B[39m'\u001B[39;49m: by,\n\u001B[0;32m    858\u001B[0m     \u001B[39m'\u001B[39;49m\u001B[39mvalue\u001B[39;49m\u001B[39m'\u001B[39;49m: value})[\u001B[39m'\u001B[39m\u001B[39mvalue\u001B[39m\u001B[39m'\u001B[39m]\n",
      "File \u001B[1;32mc:\\Users\\FYQ\\AppData\\Local\\Programs\\Python\\Python39\\lib\\site-packages\\selenium\\webdriver\\remote\\webdriver.py:434\u001B[0m, in \u001B[0;36mWebDriver.execute\u001B[1;34m(self, driver_command, params)\u001B[0m\n\u001B[0;32m    432\u001B[0m response \u001B[39m=\u001B[39m \u001B[39mself\u001B[39m\u001B[39m.\u001B[39mcommand_executor\u001B[39m.\u001B[39mexecute(driver_command, params)\n\u001B[0;32m    433\u001B[0m \u001B[39mif\u001B[39;00m response:\n\u001B[1;32m--> 434\u001B[0m     \u001B[39mself\u001B[39;49m\u001B[39m.\u001B[39;49merror_handler\u001B[39m.\u001B[39;49mcheck_response(response)\n\u001B[0;32m    435\u001B[0m     response[\u001B[39m'\u001B[39m\u001B[39mvalue\u001B[39m\u001B[39m'\u001B[39m] \u001B[39m=\u001B[39m \u001B[39mself\u001B[39m\u001B[39m.\u001B[39m_unwrap_value(\n\u001B[0;32m    436\u001B[0m         response\u001B[39m.\u001B[39mget(\u001B[39m'\u001B[39m\u001B[39mvalue\u001B[39m\u001B[39m'\u001B[39m, \u001B[39mNone\u001B[39;00m))\n\u001B[0;32m    437\u001B[0m     \u001B[39mreturn\u001B[39;00m response\n",
      "File \u001B[1;32mc:\\Users\\FYQ\\AppData\\Local\\Programs\\Python\\Python39\\lib\\site-packages\\selenium\\webdriver\\remote\\errorhandler.py:243\u001B[0m, in \u001B[0;36mErrorHandler.check_response\u001B[1;34m(self, response)\u001B[0m\n\u001B[0;32m    241\u001B[0m         alert_text \u001B[39m=\u001B[39m value[\u001B[39m'\u001B[39m\u001B[39malert\u001B[39m\u001B[39m'\u001B[39m]\u001B[39m.\u001B[39mget(\u001B[39m'\u001B[39m\u001B[39mtext\u001B[39m\u001B[39m'\u001B[39m)\n\u001B[0;32m    242\u001B[0m     \u001B[39mraise\u001B[39;00m exception_class(message, screen, stacktrace, alert_text)  \u001B[39m# type: ignore[call-arg]  # mypy is not smart enough here\u001B[39;00m\n\u001B[1;32m--> 243\u001B[0m \u001B[39mraise\u001B[39;00m exception_class(message, screen, stacktrace)\n",
      "\u001B[1;31mNoSuchElementException\u001B[0m: Message: no such element: Unable to locate element: {\"method\":\"xpath\",\"selector\":\"//*[@id=\"xirxkxkbody\"]/tr[1]/td[3]\"}\n  (Session info: chrome=108.0.5359.99)\nStacktrace:\nBacktrace:\n\t(No symbol) [0x0080F243]\n\t(No symbol) [0x00797FD1]\n\t(No symbol) [0x0068D04D]\n\t(No symbol) [0x006BC0B0]\n\t(No symbol) [0x006BC22B]\n\t(No symbol) [0x006EE612]\n\t(No symbol) [0x006D85D4]\n\t(No symbol) [0x006EC9EB]\n\t(No symbol) [0x006D8386]\n\t(No symbol) [0x006B163C]\n\t(No symbol) [0x006B269D]\n\tGetHandleVerifier [0x00AA9A22+2655074]\n\tGetHandleVerifier [0x00A9CA24+2601828]\n\tGetHandleVerifier [0x008B8C0A+619850]\n\tGetHandleVerifier [0x008B7830+614768]\n\t(No symbol) [0x007A05FC]\n\t(No symbol) [0x007A5968]\n\t(No symbol) [0x007A5A55]\n\t(No symbol) [0x007B051B]\n\tBaseThreadInitThunk [0x76A37BA9+25]\n\tRtlInitializeExceptionChain [0x7751BB9B+107]\n\tRtlClearBits [0x7751BB1F+191]\n"
     ]
    }
   ],
   "source": [
    "scu.manage(wd)"
   ]
  },
  {
   "cell_type": "code",
   "execution_count": null,
   "metadata": {
    "collapsed": false
   },
   "outputs": [],
   "source": [
    "\n"
   ]
  },
  {
   "cell_type": "code",
   "execution_count": null,
   "metadata": {
    "collapsed": false
   },
   "outputs": [],
   "source": []
  }
 ],
 "metadata": {
  "kernelspec": {
   "display_name": "Python 3",
   "language": "python",
   "name": "python3"
  },
  "language_info": {
   "codemirror_mode": {
    "name": "ipython",
    "version": 3
   },
   "file_extension": ".py",
   "mimetype": "text/x-python",
   "name": "python",
   "nbconvert_exporter": "python",
   "pygments_lexer": "ipython3",
   "version": "3.9.8"
  },
  "vscode": {
   "interpreter": {
    "hash": "e15717a3e8514dc32b0426c559fa30b6b730b86f32cd55b6c9bb4b40755e87f0"
   }
  }
 },
 "nbformat": 4,
 "nbformat_minor": 0
}
