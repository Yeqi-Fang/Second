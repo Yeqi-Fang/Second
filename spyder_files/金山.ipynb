{
 "cells": [
  {
   "cell_type": "code",
   "execution_count": 1,
   "metadata": {
    "collapsed": true,
    "pycharm": {
     "name": "#%%\n"
    }
   },
   "outputs": [],
   "source": [
    "import json\n",
    "import random\n",
    "import time\n",
    "import urllib.parse as parse\n",
    "from hashlib import md5\n",
    "import pandas as pd\n",
    "import requests\n",
    "from test import find_max_page\n",
    "\n",
    "UA_list = ['Mozilla/5.0 (Windows NT 10.0; Win64; x64) AppleWebKit/537.36 (KHTML, like Gecko) '\n",
    "           'Chrome/89.0.4389.90 Safari/537.36 Edg/89.0.774.57 ',\n",
    "           'Mozilla/5.0 (Macintosh; U; Intel Mac OS X 10_6_8; en-us) AppleWebKit/534.50 (KHTML, like Gecko) '\n",
    "           'Version/5.1 Safari/534.50',\n",
    "           'Mozilla/5.0 (Windows; U; Windows NT 6.1; en-us) AppleWebKit/534.50 (KHTML, like Gecko) Version/5.1 '\n",
    "           'Safari/534.50 ']\n",
    "pro = {\n",
    "    'http': 'http://122.9.101.6',\n",
    "    'http': 'http://122.9.101.6',\n",
    "    'http': 'http://112.14.47.6',\n",
    "    'http': 'http://202.109.157.64',\n",
    "    'http': 'http://120.194.55.139',\n",
    "    'http': 'http://39.108.101.55',\n",
    "    'http': 'http://61.216.156.222',\n",
    "    'http': 'http://120.194.55.139',\n",
    "    'http': 'http://101.200.127.149',\n",
    "    'http': 'http://183.247.211.156',\n",
    "    'http': 'http://101.200.127.149',\n",
    "    'http': 'http://101.200.127.149',\n",
    "    'http': 'http://120.220.220.95',\n",
    "    'http': 'http://47.113.90.161',\n",
    "    'http': 'http://120.194.55.139'\n",
    "}\n",
    "wordlist = list(pd.read_excel('../sourse/suorse.xlsx', header=None)[0])\n",
    "\n",
    "\n",
    "class CiBa:\n",
    "    def generate_signature(self, params: dict) -> str:\n",
    "        \"\"\"\n",
    "        生成signature\n",
    "        \"\"\"\n",
    "        value_array = []\n",
    "        keys = sorted(list(params.keys()))  # 对key进行排序\n",
    "        for value in keys:\n",
    "            value_array.append(str(params[value]))\n",
    "        return md5(('/dictionary/word/query/web' + ''.join(value_array) + '7ece94d9f9c202b0d2ec557dg4r9bc').encode(\n",
    "            'utf-8')).hexdigest()\n",
    "\n",
    "    def get_meaning(self, word: str) -> str:\n",
    "        UA = random.choice(UA_list)\n",
    "        headers = {\n",
    "            'Origin': 'https://www.iciba.com',\n",
    "            'Referer': 'https://www.iciba.com/',\n",
    "            'User-Agent': UA\n",
    "        }\n",
    "        params = {\n",
    "            'client': 6,\n",
    "            'key': 1000006,\n",
    "            'timestamp': int(time.time() * 1000),\n",
    "            'word': parse.quote(word)\n",
    "        }\n",
    "        params['signature'] = self.generate_signature(params)\n",
    "        url = 'http://dict.iciba.com/dictionary/word/suggestion'\n",
    "        # url = 'https://dict.iciba.com/dictionary/word/query/web?' + parse.urlencode(params)\n",
    "        resp = requests.get(url, params=params, headers=headers)\n",
    "        return resp.text"
   ]
  },
  {
   "cell_type": "code",
   "execution_count": 2,
   "outputs": [
    {
     "name": "stdout",
     "output_type": "stream",
     "text": [
      "pluck: vi.拉，拽;n.勇气，精神,内脏,快而猛的拉,〈俚〉不及格;vt.采，摘,拔掉,鼓起（勇气等）,弹（乐器）\n",
      "enzyme: n.[生化]酶\n",
      "catalyst: n.<化>触媒，催化剂,〈比喻〉触发因素,促进因素,〈口〉有感染力的人\n",
      "counterbalance: vt.对…起平衡作用，抵消;n.抗衡 （力），平衡力\n",
      "fauna: n.动物群,动物志\n",
      "throng: n.人群，大群人,众多;vt.& vi.群集,蜂拥而至,挤满\n",
      "proliferate: vt.使激增,使扩散;vi.增生，增殖,激增,扩散\n",
      "sterility: n.不毛,不孕,内容贫乏,不结果实\n",
      "spawn: vt.& vi.（鱼、蛙等）大量产（卵）,引起，酿成;vt.大量生产;n.（鱼、蛙等的）子，卵,（裂殖菌类植物的）丝，菌,产物，结果\n",
      "fin: n.鱼鳍,鳍状物,（汽车、飞机、炸弹上的）尾翅,散热片\n",
      "plume: n.羽毛,羽毛饰,羽毛状物\n",
      "sparrow: n.麻雀,〈美〉个子小的人\n",
      "pigeon: n.鸽子\n",
      "crawl: n.缓慢的速度,爬泳，自由泳;v.爬行,缓慢行进,挤满\n",
      "barn: n.谷仓,畜棚,简陋的大房子\n",
      "hedge: n.树篱,防护物,防范措施;v.防备，防范,躲闪，回避,限制\n",
      "epidemic: n.流行病,泛滥，猖獗\n",
      "secrete: vt.[生]分泌,隐匿，隐藏,私下侵吞\n",
      "excrete: vt.排除,排泄,分泌,排出\n",
      "hibernate: vi.（某些动物）冬眠，蛰伏\n",
      "exterminate: vt.消灭,根除\n",
      "interstellar: adj.星际的,恒星际\n",
      "terrestrial: adj.陆地的,地球的,人间的,<天>类地行星的\n",
      "There is something wrong while looking up celestrial\n",
      "meteorite: n.陨星,陨石,陨铁,流星\n",
      "crater: n.火山口，喷火口,弹坑,[天文学]巨爵座,（月球上的）环形山\n",
      "chunk: n.厚块,大量,〈语言学〉话语组成部分\n",
      "There is something wrong while looking up porpulsion\n",
      "antenna: n.触角，触须,天线\n",
      "refraction: n.折射（程度）,折射角\n",
      "discernible: adj.可识别的,可辨别的\n",
      "mentor: v.指导，辅导;n.导师，顾问\n",
      "illiteracy: n.文盲，无知，缺乏教育\n",
      "all-round: adj.全面的,多方面的,综合性的,多才多艺的\n",
      "fresher: n.大学一年级新生，新鲜人\n",
      "sophomore: n.（中等、专科学校或大学的）二年级学生\n",
      "junor: \n",
      "alumni: n.（男）校友，（男）毕业生,校友( alumnus的名词复数 )\n",
      "orientation: n.方向，定位，取向，排列方向,任职培训，新生培训,（外交等的）方针[态度]的确定,环境判定\n",
      "coed: n.<过时，美，非正>（男女同校大学中的）女大学生\n"
     ]
    }
   ],
   "source": [
    "# if __name__ == \"__main__\":\n",
    "# wordlist = ['bring about', 'get around', 'charge', 'pitch', 'scale']\n",
    "D = {}\n",
    "\n",
    "for word in wordlist:\n",
    "    time.sleep(10 * random.random())\n",
    "    d = json.loads(CiBa().get_meaning(word))\n",
    "    try:\n",
    "        meaning = d['message'][0]['paraphrase']\n",
    "        D[word] = meaning\n",
    "        print(f'{word}: {meaning}')\n",
    "    # print(D)\n",
    "    except:\n",
    "        print(f'There is something wrong while looking up {word}')\n",
    "        continue\n",
    "# for i in d['message']:\n",
    "#     print(i)\n",
    "\n",
    "\n",
    "# print(D)"
   ],
   "metadata": {
    "collapsed": false,
    "pycharm": {
     "name": "#%%\n"
    }
   }
  },
  {
   "cell_type": "code",
   "execution_count": 3,
   "outputs": [],
   "source": [
    "df = pd.DataFrame(D.values(), index=D.keys(), columns=['meanings'])\n",
    "max_page = find_max_page()\n",
    "df.to_excel(f'../files/wordlist{int(max_page) + 1}.xlsx')"
   ],
   "metadata": {
    "collapsed": false,
    "pycharm": {
     "name": "#%%\n"
    }
   }
  }
 ],
 "metadata": {
  "kernelspec": {
   "display_name": "Python 3",
   "language": "python",
   "name": "python3"
  },
  "language_info": {
   "codemirror_mode": {
    "name": "ipython",
    "version": 2
   },
   "file_extension": ".py",
   "mimetype": "text/x-python",
   "name": "python",
   "nbconvert_exporter": "python",
   "pygments_lexer": "ipython2",
   "version": "2.7.6"
  }
 },
 "nbformat": 4,
 "nbformat_minor": 0
}